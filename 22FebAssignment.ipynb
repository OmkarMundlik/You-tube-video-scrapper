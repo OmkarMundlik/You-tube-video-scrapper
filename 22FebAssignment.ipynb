{
 "cells": [
  {
   "cell_type": "markdown",
   "metadata": {},
   "source": [
    "# Q1. Write a python program to extract the video URL of the first five videos."
   ]
  },
  {
   "cell_type": "code",
   "execution_count": 1,
   "metadata": {},
   "outputs": [],
   "source": [
    "from bs4 import BeautifulSoup as bs\n",
    "import requests\n",
    "from flask import Flask, render_template, request\n",
    "\n",
    "from selenium import webdriver\n",
    "from selenium.webdriver.common.by import By\n",
    "import pandas as pd"
   ]
  },
  {
   "cell_type": "code",
   "execution_count": 4,
   "metadata": {},
   "outputs": [
    {
     "name": "stdout",
     "output_type": "stream",
     "text": [
      "https://www.youtube.com/watch?v=WObRrneLVRY\n",
      "https://www.youtube.com/watch?v=nX5ONgCdLcc\n",
      "https://www.youtube.com/watch?v=AM2Dt7cNebw\n",
      "https://www.youtube.com/watch?v=7nMJVhey9TM\n",
      "https://www.youtube.com/watch?v=FSVVlcFUCMk\n"
     ]
    }
   ],
   "source": [
    "driver = webdriver.Chrome()\n",
    "driver.get('https://www.youtube.com/@PW-Foundation/videos')\n",
    "try: \n",
    "    scrap_info = driver.find_elements(By.XPATH, '//a[@class=\"yt-simple-endpoint focus-on-expand style-scope ytd-rich-grid-media\"]')\n",
    "\n",
    "except Exception as e:\n",
    "    print(e)\n",
    "# getting video urls\n",
    "urls = []\n",
    "for i in scrap_info:\n",
    "    if len(urls)==5:\n",
    "            break\n",
    "    url = i.get_attribute(\"href\")\n",
    "    urls.append(url)\n",
    "    print(url)\n",
    "\n",
    "driver.quit()"
   ]
  },
  {
   "attachments": {},
   "cell_type": "markdown",
   "metadata": {},
   "source": [
    "# Q2. Write a python program to extract the URL of the video thumbnails of the first five videos."
   ]
  },
  {
   "cell_type": "code",
   "execution_count": 6,
   "metadata": {},
   "outputs": [
    {
     "name": "stdout",
     "output_type": "stream",
     "text": [
      "https://i.ytimg.com/vi/WObRrneLVRY/hqdefault.jpg?sqp=-oaymwEcCNACELwBSFXyq4qpAw4IARUAAIhCGAFwAcABBg==&rs=AOn4CLCqLiupYz7LnumRPGXvHnYf4ncbrQ\n",
      "https://i.ytimg.com/vi/nX5ONgCdLcc/hqdefault.jpg?sqp=-oaymwEcCNACELwBSFXyq4qpAw4IARUAAIhCGAFwAcABBg==&rs=AOn4CLBaa_KLfKyYbUYRsb5xf0YCp1YrlQ\n",
      "https://i.ytimg.com/vi/AM2Dt7cNebw/hqdefault.jpg?sqp=-oaymwEcCNACELwBSFXyq4qpAw4IARUAAIhCGAFwAcABBg==&rs=AOn4CLBJHWHabeJ94dcUDlDDNfvQxnUfJg\n",
      "https://i.ytimg.com/vi/7nMJVhey9TM/hqdefault.jpg?sqp=-oaymwEcCNACELwBSFXyq4qpAw4IARUAAIhCGAFwAcABBg==&rs=AOn4CLDHikOj7gH4eQNudv7c1qNbwcMWyA\n"
     ]
    }
   ],
   "source": [
    "driver = webdriver.Chrome()\n",
    "driver.get('https://www.youtube.com/@PW-Foundation/videos')\n",
    "try: \n",
    "    scrap_info = driver.find_elements(By.XPATH, '//a[@class=\"yt-simple-endpoint focus-on-expand style-scope ytd-rich-grid-media\"]')\n",
    "\n",
    "except Exception as e:\n",
    "    print(e)\n",
    "\n",
    "# getting thumbnaail urls: \n",
    "try: \n",
    "    thumbnail_data = driver.find_elements(By.XPATH, '//yt-image//img[@class=\"yt-core-image--fill-parent-height yt-core-image--fill-parent-width yt-core-image yt-core-image--content-mode-scale-aspect-fill yt-core-image--loaded\"]')\n",
    "except Exception as e:\n",
    "    print(\"image url exception: \", e)\n",
    "thumbnails = []\n",
    "for i in thumbnail_data:\n",
    "    if len(thumbnails)==5:\n",
    "        break\n",
    "    try:\n",
    "        url_t = i.get_attribute('src')\n",
    "        print(url_t)\n",
    "        thumbnails.append(url_t)\n",
    "    except Exception as e:\n",
    "        print(\"thumbnail : \",e)\n",
    "    \n",
    "while(len(thumbnails)!= 5):\n",
    "    thumbnails.append(\"NULL\")\n",
    "\n",
    "driver.quit()"
   ]
  },
  {
   "attachments": {},
   "cell_type": "markdown",
   "metadata": {},
   "source": [
    "# Q3. Write a python program to extract the title of the first five videos."
   ]
  },
  {
   "cell_type": "code",
   "execution_count": 10,
   "metadata": {},
   "outputs": [
    {
     "name": "stdout",
     "output_type": "stream",
     "text": [
      "Title:  आपको Commerce में क्या सीखने को मिलता है ?? Complete Information\n",
      "\n",
      "Title:  How to Attempt English Board Exam ????\n",
      "\n",
      "Title:  Best technique to attempt SST paper in Board exam || Class 10th\n",
      "\n",
      "Title:  Last Minute Strategy To Score More Than 98% || ICSE Boards || Class-10th\n",
      "\n",
      "Title:  Why You Should Choose Commerce After 10th? || Complete Information💯\n",
      "\n"
     ]
    }
   ],
   "source": [
    "driver = webdriver.Chrome()\n",
    "driver.get('https://www.youtube.com/@PW-Foundation/videos')\n",
    "try: \n",
    "    scrap_info = driver.find_elements(By.XPATH, '//a[@class=\"yt-simple-endpoint focus-on-expand style-scope ytd-rich-grid-media\"]')\n",
    "\n",
    "except Exception as e:\n",
    "    print(e)\n",
    "\n",
    "# getting titles of videos\n",
    "titles = []\n",
    "for i in scrap_info:\n",
    "    if len(titles)==5:\n",
    "        break\n",
    "    title = i.get_attribute(\"title\")\n",
    "    print(\"Title: \", title)\n",
    "    print()\n",
    "    titles.append(title)\n",
    "\n",
    "driver.quit()"
   ]
  },
  {
   "attachments": {},
   "cell_type": "markdown",
   "metadata": {},
   "source": [
    "# Q4. Write a python program to extract the number of views of the first five videos.\n",
    "# Q5. Write a python program to extract the time of posting of video for the first five videos.\n",
    "\n",
    "# Question 4 and 5 combinely solved in following code :"
   ]
  },
  {
   "cell_type": "code",
   "execution_count": 13,
   "metadata": {},
   "outputs": [
    {
     "name": "stdout",
     "output_type": "stream",
     "text": [
      "Views :  ['10K views', '183K views', '58K views', '24K views', '30K views']\n",
      "\n",
      "Time of postings:  ['1 day ago', '5 days ago', '6 days ago', '7 days ago', '8 days ago']\n"
     ]
    }
   ],
   "source": [
    "driver = webdriver.Chrome()\n",
    "driver.get('https://www.youtube.com/@PW-Foundation/videos')\n",
    "try: \n",
    "    scrap_info = driver.find_elements(By.XPATH, '//a[@class=\"yt-simple-endpoint focus-on-expand style-scope ytd-rich-grid-media\"]')\n",
    "except Exception as e:\n",
    "    print(e)\n",
    "\n",
    "\n",
    "# getting views and time of postings of the video: \n",
    "Views = []\n",
    "try:\n",
    "    views_data = driver.find_elements(By.XPATH, '//span[@class=\"inline-metadata-item style-scope ytd-video-meta-block\"]')   \n",
    "except Exception as e:\n",
    "    print(\"view exceptino: \",e)\n",
    "\n",
    "duration = []\n",
    "j = 0\n",
    "for i in views_data:\n",
    "    if len(Views)==5 and len(duration)==5:\n",
    "        break\n",
    "    try:\n",
    "        if j%2==0:\n",
    "            v = i.text\n",
    "            Views.append(v)\n",
    "        else:\n",
    "            d = i.text\n",
    "            duration.append(d)\n",
    "        j+=1\n",
    "    except Exception as e:\n",
    "        print(e)\n",
    "\n",
    "driver.quit()\n",
    "\n",
    "print(\"Views : \" , Views)\n",
    "print()\n",
    "print(\"Time of postings: \", duration)"
   ]
  },
  {
   "attachments": {},
   "cell_type": "markdown",
   "metadata": {},
   "source": [
    "# Save all the data scraped in the above questions in a CSV file."
   ]
  },
  {
   "cell_type": "code",
   "execution_count": 15,
   "metadata": {},
   "outputs": [
    {
     "data": {
      "text/html": [
       "<div>\n",
       "<style scoped>\n",
       "    .dataframe tbody tr th:only-of-type {\n",
       "        vertical-align: middle;\n",
       "    }\n",
       "\n",
       "    .dataframe tbody tr th {\n",
       "        vertical-align: top;\n",
       "    }\n",
       "\n",
       "    .dataframe thead th {\n",
       "        text-align: right;\n",
       "    }\n",
       "</style>\n",
       "<table border=\"1\" class=\"dataframe\">\n",
       "  <thead>\n",
       "    <tr style=\"text-align: right;\">\n",
       "      <th></th>\n",
       "      <th>Titles</th>\n",
       "      <th>Video links</th>\n",
       "      <th>Thumbnail links</th>\n",
       "      <th>Views</th>\n",
       "      <th>Time of Posting</th>\n",
       "    </tr>\n",
       "  </thead>\n",
       "  <tbody>\n",
       "    <tr>\n",
       "      <th>0</th>\n",
       "      <td>आपको Commerce में क्या सीखने को मिलता है ?? Co...</td>\n",
       "      <td>https://www.youtube.com/watch?v=WObRrneLVRY</td>\n",
       "      <td>https://i.ytimg.com/vi/WObRrneLVRY/hqdefault.j...</td>\n",
       "      <td>10K views</td>\n",
       "      <td>1 day ago</td>\n",
       "    </tr>\n",
       "    <tr>\n",
       "      <th>1</th>\n",
       "      <td>How to Attempt English Board Exam ????</td>\n",
       "      <td>https://www.youtube.com/watch?v=nX5ONgCdLcc</td>\n",
       "      <td>https://i.ytimg.com/vi/nX5ONgCdLcc/hqdefault.j...</td>\n",
       "      <td>183K views</td>\n",
       "      <td>5 days ago</td>\n",
       "    </tr>\n",
       "    <tr>\n",
       "      <th>2</th>\n",
       "      <td>Best technique to attempt SST paper in Board e...</td>\n",
       "      <td>https://www.youtube.com/watch?v=AM2Dt7cNebw</td>\n",
       "      <td>https://i.ytimg.com/vi/AM2Dt7cNebw/hqdefault.j...</td>\n",
       "      <td>58K views</td>\n",
       "      <td>6 days ago</td>\n",
       "    </tr>\n",
       "    <tr>\n",
       "      <th>3</th>\n",
       "      <td>Last Minute Strategy To Score More Than 98% ||...</td>\n",
       "      <td>https://www.youtube.com/watch?v=7nMJVhey9TM</td>\n",
       "      <td>https://i.ytimg.com/vi/7nMJVhey9TM/hqdefault.j...</td>\n",
       "      <td>24K views</td>\n",
       "      <td>7 days ago</td>\n",
       "    </tr>\n",
       "    <tr>\n",
       "      <th>4</th>\n",
       "      <td>Why You Should Choose Commerce After 10th? || ...</td>\n",
       "      <td>https://www.youtube.com/watch?v=FSVVlcFUCMk</td>\n",
       "      <td>NULL</td>\n",
       "      <td>30K views</td>\n",
       "      <td>8 days ago</td>\n",
       "    </tr>\n",
       "  </tbody>\n",
       "</table>\n",
       "</div>"
      ],
      "text/plain": [
       "                                              Titles  \\\n",
       "0  आपको Commerce में क्या सीखने को मिलता है ?? Co...   \n",
       "1             How to Attempt English Board Exam ????   \n",
       "2  Best technique to attempt SST paper in Board e...   \n",
       "3  Last Minute Strategy To Score More Than 98% ||...   \n",
       "4  Why You Should Choose Commerce After 10th? || ...   \n",
       "\n",
       "                                   Video links  \\\n",
       "0  https://www.youtube.com/watch?v=WObRrneLVRY   \n",
       "1  https://www.youtube.com/watch?v=nX5ONgCdLcc   \n",
       "2  https://www.youtube.com/watch?v=AM2Dt7cNebw   \n",
       "3  https://www.youtube.com/watch?v=7nMJVhey9TM   \n",
       "4  https://www.youtube.com/watch?v=FSVVlcFUCMk   \n",
       "\n",
       "                                     Thumbnail links       Views  \\\n",
       "0  https://i.ytimg.com/vi/WObRrneLVRY/hqdefault.j...   10K views   \n",
       "1  https://i.ytimg.com/vi/nX5ONgCdLcc/hqdefault.j...  183K views   \n",
       "2  https://i.ytimg.com/vi/AM2Dt7cNebw/hqdefault.j...   58K views   \n",
       "3  https://i.ytimg.com/vi/7nMJVhey9TM/hqdefault.j...   24K views   \n",
       "4                                               NULL   30K views   \n",
       "\n",
       "  Time of Posting  \n",
       "0       1 day ago  \n",
       "1      5 days ago  \n",
       "2      6 days ago  \n",
       "3      7 days ago  \n",
       "4      8 days ago  "
      ]
     },
     "execution_count": 15,
     "metadata": {},
     "output_type": "execute_result"
    }
   ],
   "source": [
    "data = {\n",
    "        'Titles' : titles,\n",
    "        'Video links' : urls,\n",
    "        'Thumbnail links' : thumbnails,\n",
    "        'Views' : Views,\n",
    "        'Time of Posting' : duration\n",
    "}\n",
    "\n",
    "df = pd.DataFrame(data)\n",
    "df.to_csv(\"dataincsv.csv\")\n",
    "df"
   ]
  }
 ],
 "metadata": {
  "kernelspec": {
   "display_name": "Python 3",
   "language": "python",
   "name": "python3"
  },
  "language_info": {
   "codemirror_mode": {
    "name": "ipython",
    "version": 3
   },
   "file_extension": ".py",
   "mimetype": "text/x-python",
   "name": "python",
   "nbconvert_exporter": "python",
   "pygments_lexer": "ipython3",
   "version": "3.10.7"
  },
  "orig_nbformat": 4,
  "vscode": {
   "interpreter": {
    "hash": "63963b3f4c440940f0b94a3100916033a226cb4f45979123153792d60aa56d6a"
   }
  }
 },
 "nbformat": 4,
 "nbformat_minor": 2
}
